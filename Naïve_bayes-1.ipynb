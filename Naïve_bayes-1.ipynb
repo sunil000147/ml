{
 "cells": [
  {
   "cell_type": "markdown",
   "id": "242301b7-a9f0-4863-9fa7-91cab2559af7",
   "metadata": {},
   "source": [
    "Q1. What is Bayes' theorem?"
   ]
  },
  {
   "cell_type": "markdown",
   "id": "11394a6b-3b2e-4858-9337-f96c70931ad3",
   "metadata": {},
   "source": [
    "Ans. Bayes' theorem is a fundamental concept in probability theory and statistics that describes how to update the probability of a hypothesis (an event or proposition) based on new evidence or information"
   ]
  },
  {
   "cell_type": "markdown",
   "id": "a7820c36-c137-4d81-b6c4-989a2021dd0b",
   "metadata": {},
   "source": [
    "Q2. What is the formula for Bayes' theorem?"
   ]
  },
  {
   "cell_type": "markdown",
   "id": "64025953-360e-4e84-866b-63da8590d597",
   "metadata": {},
   "source": [
    "ANS. P(A/B) = (P(A)*P(B/A)) / P(B)\n",
    "\n",
    "Where,\n",
    "P(A/B) = probability of A events given B has occured\n",
    "\n",
    "P(B/A) = probability of B events given A has occured\n",
    "\n",
    "P(A) = probability of A events\n",
    "\n",
    "P(B) = probabilty of B events\n"
   ]
  },
  {
   "cell_type": "markdown",
   "id": "83b77689-f8cc-4d2c-bcef-5682ff80eafb",
   "metadata": {},
   "source": [
    "Q3. How is Bayes' theorem used in practice?"
   ]
  },
  {
   "cell_type": "markdown",
   "id": "2e7b8ac9-a591-4397-a6b9-bbc4c4bdb485",
   "metadata": {},
   "source": [
    "Ans.  1. Medical diagnosis: Bayes' theorem is used in medical diagnosis to assess the probability of a disease given observed symptoms or test results. By combining prior probabilities of disease occurrence, test sensitivity, and specificity, Bayes' theorem helps in determining the probability of a disease given a positive or negative test result.\n",
    "\n",
    "2. Spam filtering: Bayesian spam filtering is a common technique used in email systems to classify incoming messages as spam or legitimate. It uses Bayes' theorem to calculate the probability that an email is spam based on observed features (e.g., keywords, message structure) and previously learned probabilities from a training dataset."
   ]
  },
  {
   "cell_type": "markdown",
   "id": "09faf632-0085-4da2-8621-19587e70c1c0",
   "metadata": {},
   "source": [
    "Q4. What is the relationship between Bayes' theorem and conditional probability?"
   ]
  },
  {
   "cell_type": "markdown",
   "id": "ddd466c4-09e2-4107-b5d2-e8cef72486be",
   "metadata": {},
   "source": [
    "Bayes' theorem is closely related to conditional probability. In fact, Bayes' theorem can be derived from the concept of conditional probability.\n",
    "\n",
    "Conditional probability refers to the probability of an event A occurring given that another event B has already occurred. It is denoted as P(A | B) and read as \"the probability of A given B.\" The conditional probability is calculated by dividing the joint probability of events A and B by the probability of event B:\n",
    "\n",
    "P(A | B) = P(A and B) / P(B)\n",
    "\n",
    "Bayes' theorem provides a way to reverse the conditioning. It allows us to calculate the probability of an event B occurring given that event A has already occurred. The theorem states that:\n",
    "\n",
    "P(B | A) = (P(A | B) * P(B)) / P(A)\n",
    "\n",
    "where P(B | A) is the posterior probability of event B given event A, P(A | B) is the conditional probability of event A given event B, P(B) is the prior probability of event B, and P(A) is the prior probability of event A."
   ]
  },
  {
   "cell_type": "markdown",
   "id": "abcad93b-3dd4-4c63-b3f3-95149b4111d9",
   "metadata": {},
   "source": [
    "Q5. How do you choose which type of Naive Bayes classifier to use for any given problem?"
   ]
  },
  {
   "cell_type": "markdown",
   "id": "f0f3692e-2cda-418f-9c83-a8e5dc9f0dd8",
   "metadata": {},
   "source": [
    "The choice of which type of Naive Bayes classifier to use for a given problem depends on the nature of the data and the assumptions made about the features.\n",
    "\n",
    "here are three types of naive bayes,\n",
    "\n",
    "1. Gaussian Naive Bayes:\n",
    "\n",
    "Use Gaussian Naive Bayes when dealing with continuous numeric features that can be assumed to follow a normal (Gaussian) distribution.\n",
    "It assumes that the continuous features in each class are normally distributed and estimates the mean and variance for each class.\n",
    "\n",
    "2. Multinomial Naive Bayes:\n",
    "Use Multinomial Naive Bayes when dealing with discrete features that represent counts or frequencies.\n",
    "It is commonly used for text classification problems, where the features are typically word frequencies or term frequencies.\n",
    "\n",
    "3. Bernoulli Naive Bayes:\n",
    "\n",
    "Use Bernoulli Naive Bayes when dealing with binary features (0/1) or features that represent the presence or absence of certain characteristics.\n",
    "It is suitable for problems where features are binary variables or represent the occurrence/non-occurrence of certain events."
   ]
  },
  {
   "cell_type": "code",
   "execution_count": null,
   "id": "4a1fbb52-1bda-4ae9-beb5-0cf1fd4c8a5a",
   "metadata": {},
   "outputs": [],
   "source": []
  }
 ],
 "metadata": {
  "kernelspec": {
   "display_name": "Python 3 (ipykernel)",
   "language": "python",
   "name": "python3"
  },
  "language_info": {
   "codemirror_mode": {
    "name": "ipython",
    "version": 3
   },
   "file_extension": ".py",
   "mimetype": "text/x-python",
   "name": "python",
   "nbconvert_exporter": "python",
   "pygments_lexer": "ipython3",
   "version": "3.10.8"
  }
 },
 "nbformat": 4,
 "nbformat_minor": 5
}
