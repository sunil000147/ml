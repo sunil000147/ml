{
 "cells": [
  {
   "cell_type": "code",
   "execution_count": 5,
   "id": "10fca773-f7c0-4c38-8c5d-2b0af3da6201",
   "metadata": {},
   "outputs": [
    {
     "name": "stdout",
     "output_type": "stream",
     "text": [
      "Accuracy: 1.0\n"
     ]
    }
   ],
   "source": [
    "'''Q1. Write a Python code to implement the KNN classifier algorithm on load_iris dataset in\n",
    "sklearn.datasets.'''\n",
    "\n",
    "from sklearn.datasets import load_iris\n",
    "from sklearn.model_selection import train_test_split\n",
    "from sklearn.neighbors import KNeighborsClassifier\n",
    "from sklearn.metrics import accuracy_score\n",
    "\n",
    "# Load the Iris dataset\n",
    "iris = load_iris()\n",
    "X = iris.data  # Features\n",
    "y = iris.target  # Target variable\n",
    "\n",
    "# Split the dataset into training and testing sets\n",
    "X_train, X_test, y_train, y_test = train_test_split(X, y, test_size=0.2, random_state=42)\n",
    "\n",
    "# Create a KNN classifier object\n",
    "knn = KNeighborsClassifier(n_neighbors=3)  # Number of neighbors = 3\n",
    "\n",
    "# Fit the model on the training data\n",
    "knn.fit(X_train, y_train)\n",
    "\n",
    "# Make predictions on the testing data\n",
    "y_pred = knn.predict(X_test)\n",
    "\n",
    "# Calculate the accuracy of the model\n",
    "accuracy = accuracy_score(y_test, y_pred)\n",
    "print(\"Accuracy:\", accuracy)\n"
   ]
  },
  {
   "cell_type": "code",
   "execution_count": 7,
   "id": "966f6b17-ee03-4ab8-ac66-6e0da98aa650",
   "metadata": {},
   "outputs": [
    {
     "name": "stdout",
     "output_type": "stream",
     "text": [
      "Mean Squared Error: 17.20998611111111\n"
     ]
    }
   ],
   "source": [
    "'''Q2. Write a Python code to implement the KNN regressor algorithm on load_boston dataset in\n",
    "sklearn.datasets.'''\n",
    "\n",
    "import seaborn as sns\n",
    "from sklearn.model_selection import train_test_split\n",
    "from sklearn.neighbors import KNeighborsRegressor\n",
    "from sklearn.metrics import mean_squared_error\n",
    "\n",
    "# Load the mpg dataset from seaborn\n",
    "mpg = sns.load_dataset('mpg')\n",
    "\n",
    "# Extract the features and target variable\n",
    "X = mpg[['displacement', 'weight', 'acceleration']]  # Features\n",
    "y = mpg['mpg']  # Target variable\n",
    "\n",
    "# Split the dataset into training and testing sets\n",
    "X_train, X_test, y_train, y_test = train_test_split(X, y, test_size=0.2, random_state=42)\n",
    "\n",
    "# Create a KNN regressor object\n",
    "knn = KNeighborsRegressor(n_neighbors=3)  # Number of neighbors = 3\n",
    "\n",
    "# Fit the model on the training data\n",
    "knn.fit(X_train, y_train)\n",
    "\n",
    "# Make predictions on the testing data\n",
    "y_pred = knn.predict(X_test)\n",
    "\n",
    "# Calculate the mean squared error of the model\n",
    "mse = mean_squared_error(y_test, y_pred)\n",
    "print(\"Mean Squared Error:\", mse)\n"
   ]
  },
  {
   "cell_type": "code",
   "execution_count": 8,
   "id": "8df91b5c-a10a-4791-bdb6-236e1dfed448",
   "metadata": {},
   "outputs": [
    {
     "name": "stdout",
     "output_type": "stream",
     "text": [
      "Optimal K: 6\n"
     ]
    }
   ],
   "source": [
    "'''Q3. Write a Python code snippet to find the optimal value of K for the KNN classifier algorithm using\n",
    "cross-validation on load_iris dataset in sklearn.datasets.'''\n",
    "\n",
    "from sklearn.datasets import load_iris\n",
    "from sklearn.model_selection import cross_val_score\n",
    "from sklearn.neighbors import KNeighborsClassifier\n",
    "\n",
    "# Load the Iris dataset\n",
    "iris = load_iris()\n",
    "X = iris.data  # Features\n",
    "y = iris.target  # Target variable\n",
    "\n",
    "# Initialize a list to store cross-validation scores\n",
    "cv_scores = []\n",
    "\n",
    "# Try different values of K\n",
    "k_values = range(1, 31)\n",
    "for k in k_values:\n",
    "    # Create a KNN classifier object\n",
    "    knn = KNeighborsClassifier(n_neighbors=k)\n",
    "\n",
    "    # Perform cross-validation and calculate the mean accuracy\n",
    "    scores = cross_val_score(knn, X, y, cv=5)\n",
    "    mean_accuracy = scores.mean()\n",
    "\n",
    "    # Store the mean accuracy in the list\n",
    "    cv_scores.append(mean_accuracy)\n",
    "\n",
    "# Find the optimal value of K with the highest accuracy\n",
    "optimal_k = k_values[cv_scores.index(max(cv_scores))]\n",
    "print(\"Optimal K:\", optimal_k)\n"
   ]
  },
  {
   "cell_type": "code",
   "execution_count": 11,
   "id": "d23454bd-9bae-4943-83ee-ffda31d3e694",
   "metadata": {},
   "outputs": [
    {
     "name": "stdout",
     "output_type": "stream",
     "text": [
      "Accuracy: 1.0\n"
     ]
    }
   ],
   "source": [
    "'''Q5. Write a Python code snippet to implement the KNN classifier algorithm with weighted voting on\n",
    "load_iris dataset in sklearn.datasets.'''\n",
    "\n",
    "from sklearn.datasets import load_iris\n",
    "from sklearn.model_selection import train_test_split\n",
    "from sklearn.neighbors import KNeighborsClassifier\n",
    "from sklearn.metrics import accuracy_score\n",
    "\n",
    "# Load the Iris dataset\n",
    "iris = load_iris()\n",
    "X = iris.data  # Features\n",
    "y = iris.target  # Target variable\n",
    "\n",
    "# Split the dataset into training and testing sets\n",
    "X_train, X_test, y_train, y_test = train_test_split(X, y, test_size=0.2, random_state=42)\n",
    "\n",
    "# Create a KNN classifier object with weighted voting\n",
    "knn = KNeighborsClassifier(n_neighbors=3, weights='distance')  # Number of neighbors = 3, weights = 'distance'\n",
    "\n",
    "# Fit the model on the training data\n",
    "knn.fit(X_train, y_train)\n",
    "\n",
    "# Make predictions on the testing data\n",
    "y_pred = knn.predict(X_test)\n",
    "\n",
    "# Calculate the accuracy of the model\n",
    "accuracy = accuracy_score(y_test, y_pred)\n",
    "print(\"Accuracy:\", accuracy)\n"
   ]
  },
  {
   "cell_type": "code",
   "execution_count": 12,
   "id": "f7821c37-2712-4651-bf09-5aecaf02984e",
   "metadata": {},
   "outputs": [],
   "source": [
    "'''Q6. Implement a function to standardise the features before applying KNN classifier.'''\n",
    "from sklearn.preprocessing import StandardScaler\n",
    "from sklearn.neighbors import KNeighborsClassifier\n",
    "\n",
    "def knn_classifier_with_standardization(X_train, y_train, X_test, y_test, n_neighbors=5):\n",
    "    # Create a StandardScaler object\n",
    "    scaler = StandardScaler()\n",
    "\n",
    "    # Standardize the features in the training and testing data\n",
    "    X_train_scaled = scaler.fit_transform(X_train)\n",
    "    X_test_scaled = scaler.transform(X_test)\n",
    "\n",
    "    # Create a KNN classifier object\n",
    "    knn = KNeighborsClassifier(n_neighbors=n_neighbors)\n",
    "\n",
    "    # Fit the model on the standardized training data\n",
    "    knn.fit(X_train_scaled, y_train)\n",
    "\n",
    "    # Make predictions on the standardized testing data\n",
    "    y_pred = knn.predict(X_test_scaled)\n",
    "\n",
    "    # Calculate the accuracy of the model\n",
    "    accuracy = accuracy_score(y_test, y_pred)\n",
    "    \n",
    "    return accuracy\n"
   ]
  },
  {
   "cell_type": "code",
   "execution_count": 13,
   "id": "b741fb90-3673-4958-af3a-9f991354670a",
   "metadata": {},
   "outputs": [],
   "source": [
    "'''Q7. Write a Python function to calculate the euclidean distance between two points.'''\n",
    "import math\n",
    "\n",
    "def euclidean_distance(point1, point2):\n",
    "    # Ensure both points have the same number of dimensions\n",
    "    if len(point1) != len(point2):\n",
    "        raise ValueError(\"Both points should have the same number of dimensions\")\n",
    "\n",
    "    # Calculate the squared distance for each dimension\n",
    "    squared_distances = [(p1 - p2) ** 2 for p1, p2 in zip(point1, point2)]\n",
    "\n",
    "    # Sum the squared distances and take the square root\n",
    "    distance = math.sqrt(sum(squared_distances))\n",
    "    \n",
    "    return distance\n"
   ]
  },
  {
   "cell_type": "code",
   "execution_count": 14,
   "id": "34b460e7-d866-4ac1-98a4-4a0d2b5f5d6e",
   "metadata": {},
   "outputs": [],
   "source": [
    "'''Q8. Write a Python function to calculate the manhattan distance between two points.'''\n",
    "def manhattan_distance(point1, point2):\n",
    "    # Ensure both points have the same number of dimensions\n",
    "    if len(point1) != len(point2):\n",
    "        raise ValueError(\"Both points should have the same number of dimensions\")\n",
    "\n",
    "    # Calculate the absolute difference for each dimension and sum them up\n",
    "    distance = sum(abs(p1 - p2) for p1, p2 in zip(point1, point2))\n",
    "    \n",
    "    return distance\n",
    "\n"
   ]
  },
  {
   "cell_type": "code",
   "execution_count": null,
   "id": "08693191-54a0-4156-9929-1f28677b41dd",
   "metadata": {},
   "outputs": [],
   "source": []
  }
 ],
 "metadata": {
  "kernelspec": {
   "display_name": "Python 3 (ipykernel)",
   "language": "python",
   "name": "python3"
  },
  "language_info": {
   "codemirror_mode": {
    "name": "ipython",
    "version": 3
   },
   "file_extension": ".py",
   "mimetype": "text/x-python",
   "name": "python",
   "nbconvert_exporter": "python",
   "pygments_lexer": "ipython3",
   "version": "3.10.8"
  }
 },
 "nbformat": 4,
 "nbformat_minor": 5
}
