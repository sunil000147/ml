{
 "cells": [
  {
   "cell_type": "markdown",
   "id": "3f340c77-d1ca-47d0-b739-85613e2b68d0",
   "metadata": {},
   "source": [
    "Q1. A company conducted a survey of its employees and found that 70% of the employees use the\n",
    "company's health insurance plan, while 40% of the employees who use the plan are smokers. What is the\n",
    "probability that an employee is a smoker given that he/she uses the health insurance plan?"
   ]
  },
  {
   "cell_type": "markdown",
   "id": "9aaf0495-3d7e-439b-93a7-79938ab9ab74",
   "metadata": {},
   "source": [
    "Ans.To find the probability that an employee is a smoker given that he/she uses the health insurance plan, we can use Bayes' theorem.\n",
    "\n",
    "Let's define the events:\n",
    "A: Employee uses the health insurance plan.\n",
    "B: Employee is a smoker.\n",
    "\n",
    "We are given the following probabilities:\n",
    "P(A) = 0.70 (probability that an employee uses the health insurance plan)\n",
    "P(B | A) = 0.40 (probability that an employee is a smoker given that they use the health insurance plan)\n",
    "\n",
    "We want to find P(B | A), the probability that an employee is a smoker given that they use the health insurance plan.\n",
    "\n",
    "According to Bayes' theorem:\n",
    "P(B | A) = (P(A | B) * P(B)) / P(A)\n",
    "\n",
    "To calculate P(A | B), we can use the formula:\n",
    "P(A | B) = (P(B | A) * P(A)) / P(B)\n",
    "\n",
    "We are given P(B | A) and P(A), so we need to find P(B) to calculate P(A | B).\n",
    "\n",
    "P(B) represents the overall probability of an employee being a smoker, regardless of whether they use the health insurance plan or not. We can calculate it using the law of total probability:\n",
    "\n",
    "P(B) = P(B | A) * P(A) + P(B | ¬A) * P(¬A)\n",
    "\n",
    "Here, P(B | ¬A) represents the probability of an employee being a smoker given that they do not use the health insurance plan, and P(¬A) is the probability of an employee not using the health insurance plan.\n",
    "\n",
    "Since we are not given P(B | ¬A), we cannot calculate the exact probability that an employee is a smoker given that they use the health insurance plan.\n",
    "\n",
    "\n",
    "\n",
    "\n"
   ]
  },
  {
   "cell_type": "markdown",
   "id": "3a332ed3-2399-4bba-8191-a89fc5052cd0",
   "metadata": {},
   "source": [
    "Q2. What is the difference between Bernoulli Naive Bayes and Multinomial Naive Bayes?"
   ]
  },
  {
   "cell_type": "markdown",
   "id": "f626e057-cb23-4bfa-9062-95ccddcbe581",
   "metadata": {},
   "source": [
    "Bernoulli Naive Bayes:\n",
    "\n",
    "Bernoulli Naive Bayes is suitable for binary feature data, where each feature can take on only two possible values: 0 (absence) or 1 (presence).\n",
    "It assumes that the presence or absence of a particular feature is informative for the classification task.\n",
    "In Bernoulli Naive Bayes, the presence or absence of each feature is represented as a binary variable, and the class conditional probabilities are estimated based on the occurrence of these binary features.\n",
    "\n",
    "\n",
    "Multinomial Naive Bayes:\n",
    "\n",
    "Multinomial Naive Bayes is designed for discrete feature data, where features can take on multiple discrete values.\n",
    "It is commonly used for text classification tasks, where features represent word frequencies or term frequencies.\n",
    "In Multinomial Naive Bayes, the occurrences or counts of different features are used to estimate the class conditional probabilities."
   ]
  },
  {
   "cell_type": "markdown",
   "id": "5fa078d0-fe8a-4c36-9660-e7c8dc5188c5",
   "metadata": {},
   "source": [
    "Q3. How does Bernoulli Naive Bayes handle missing values?"
   ]
  },
  {
   "cell_type": "markdown",
   "id": "bda4c806-7a1b-469f-baea-8918c406d94b",
   "metadata": {},
   "source": [
    "Ans.When a feature value is missing for a particular instance, Bernoulli Naive Bayes can handle it in one of the following ways:\n",
    "\n",
    "Ignore missing values: In this approach, the missing values are simply ignored during the probability estimation process. The presence or absence of the feature is not considered for that instance. This assumes that missing values are missing completely at random (MCAR) and do not provide any additional information.\n",
    "\n",
    "Treat missing values as a separate category: Another approach is to treat missing values as a separate category or a distinct value for each feature. This means that a missing value is considered as an additional feature state. During the probability estimation, the presence or absence of the missing value is treated as a separate class. This assumes that missing values may contain some information or patterns and should be treated explicitly.\n",
    "\n",
    "The choice between these approaches depends on the nature of the missing values and the specific requirements of the problem. It is important to note that the handling of missing values in Bernoulli Naive Bayes is a decision that needs to be made based on the characteristics of the dataset and the domain knowledg"
   ]
  },
  {
   "cell_type": "markdown",
   "id": "3ff4e93b-e430-4f1c-b8ca-6f3d5971fcfe",
   "metadata": {},
   "source": [
    "Q4. Can Gaussian Naive Bayes be used for multi-class classification?"
   ]
  },
  {
   "cell_type": "markdown",
   "id": "717bb7c8-d84a-4408-979f-e3ca13ab4fee",
   "metadata": {},
   "source": [
    "Ans. yes, Gaussian Naive Bayes can be used for multi-class classification by employing either the one-vs-rest or one-vs-one strategy. The appropriate approach depends on the dataset characteristics and the specific problem at hand."
   ]
  }
 ],
 "metadata": {
  "kernelspec": {
   "display_name": "Python 3 (ipykernel)",
   "language": "python",
   "name": "python3"
  },
  "language_info": {
   "codemirror_mode": {
    "name": "ipython",
    "version": 3
   },
   "file_extension": ".py",
   "mimetype": "text/x-python",
   "name": "python",
   "nbconvert_exporter": "python",
   "pygments_lexer": "ipython3",
   "version": "3.10.8"
  }
 },
 "nbformat": 4,
 "nbformat_minor": 5
}
